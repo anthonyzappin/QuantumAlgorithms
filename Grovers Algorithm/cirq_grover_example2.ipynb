{
 "cells": [
  {
   "cell_type": "code",
   "execution_count": 1,
   "id": "a772a38f",
   "metadata": {},
   "outputs": [
    {
     "name": "stdout",
     "output_type": "stream",
     "text": [
      "0: ───H───X───@───X───H───Z───@───H───M───\n",
      "              │               │\n",
      "1: ───H───X───X───X───H───Z───X───H───M───\n",
      "measurements: 0=1 1=0\n",
      "output vector: |10⟩\n"
     ]
    }
   ],
   "source": [
    "import cirq\n",
    "\n",
    "q0, q1 = cirq.LineQubit.range(2)\n",
    "# q0 = cirq.GridQubit(0, 0)\n",
    "# q1 = cirq.GridQubit(0, 1)\n",
    "\n",
    "grover = cirq.Circuit()\n",
    "grover.append([cirq.H(q0), cirq.H(q1)])\n",
    "\n",
    "# Oracle for |00⟩ :\n",
    "grover.append([cirq.X(q0), cirq.X(q1)])\n",
    "grover.append(cirq.CX(q0,q1))\n",
    "grover.append([cirq.X(q0), cirq.X(q1)])\n",
    "\n",
    "grover.append([cirq.H(q0), cirq.H(q1)])\n",
    "\n",
    "# reflection circuit :\n",
    "grover.append([cirq.Z(q0), cirq.Z(q1)])\n",
    "grover.append(cirq.CX(q0,q1))\n",
    "\n",
    "grover.append([cirq.H(q0), cirq.H(q1)])\n",
    "grover.append([cirq.measure(q0), cirq.measure(q1)])\n",
    "\n",
    "print(grover)\n",
    "\n",
    "simulator = cirq.Simulator()\n",
    "result = simulator.simulate(grover)\n",
    "# result = simulator.run(circuit, repetitions=40) # NISQ computers\n",
    "print(result)"
   ]
  },
  {
   "cell_type": "code",
   "execution_count": null,
   "id": "f1d3510f",
   "metadata": {},
   "outputs": [],
   "source": []
  }
 ],
 "metadata": {
  "kernelspec": {
   "display_name": "Python 3 (ipykernel)",
   "language": "python",
   "name": "python3"
  },
  "language_info": {
   "codemirror_mode": {
    "name": "ipython",
    "version": 3
   },
   "file_extension": ".py",
   "mimetype": "text/x-python",
   "name": "python",
   "nbconvert_exporter": "python",
   "pygments_lexer": "ipython3",
   "version": "3.9.7"
  }
 },
 "nbformat": 4,
 "nbformat_minor": 5
}
