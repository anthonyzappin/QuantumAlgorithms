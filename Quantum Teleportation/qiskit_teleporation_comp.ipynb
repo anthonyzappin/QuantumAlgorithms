{
 "cells": [
  {
   "cell_type": "code",
   "execution_count": 1,
   "id": "a72dc5e9",
   "metadata": {},
   "outputs": [],
   "source": [
    "from qiskit import QuantumCircuit, QuantumRegister, ClassicalRegister, Aer,execute, IBMQ\n",
    "from qiskit.quantum_info import Statevector # the state vector of the required qubits is generated\n",
    "#The variables are initialized to generate the quantum circuit\n",
    "msg =  QuantumRegister(1) # infomration\n",
    "Alice = QuantumRegister(1) # emisor\n",
    "Bob = QuantumRegister(1) #receptor\n",
    "key1 = ClassicalRegister(1) #condition one\n",
    "key2 = ClassicalRegister(1) # condition two\n",
    "output  = ClassicalRegister(1) # classical bit output\n",
    "circuit = QuantumCircuit(msg,Alice, Bob, key1, key2, output) # genrate the quantum"
   ]
  },
  {
   "cell_type": "code",
   "execution_count": 2,
   "id": "434bb599",
   "metadata": {},
   "outputs": [
    {
     "name": "stdout",
     "output_type": "stream",
     "text": [
      "[0.5  +0.j 0.866+0.j 0.   +0.j 0.   +0.j 0.   +0.j 0.   +0.j 0.   +0.j\n",
      " 0.   +0.j]\n"
     ]
    }
   ],
   "source": [
    "import numpy as np\n",
    "zero_state = 0.25 # value in zero state\n",
    "\n",
    "circuit.initialize([np.sqrt(zero_state), np.sqrt(1-zero_state)], msg) #obtain the value for msg variable\n",
    "backend = Aer.get_backend('statevector_simulator') # simulate the previous circuit\n",
    "job = execute(circuit, backend)\n",
    "result = job.result()\n",
    "print(result.get_statevector(circuit, decimals=3)) # show the vector output at this moment with 3 decimals"
   ]
  },
  {
   "cell_type": "code",
   "execution_count": 3,
   "id": "7a14aafd",
   "metadata": {},
   "outputs": [
    {
     "data": {
      "text/html": [
       "<pre style=\"word-wrap: normal;white-space: pre;background: #fff0;line-height: 1.1;font-family: &quot;Courier New&quot;,Courier,monospace\">      ┌─────────────────────────┐ ░            ░      ┌───┐ ░ ┌─┐          »\n",
       "q0_0: ┤ Initialize(0.5,0.86603) ├─░────────────░───■──┤ H ├─░─┤M├──────────»\n",
       "      └─────────────────────────┘ ░ ┌───┐      ░ ┌─┴─┐└───┘ ░ └╥┘┌─┐       »\n",
       "q1_0: ────────────────────────────░─┤ H ├──■───░─┤ X ├──────░──╫─┤M├───────»\n",
       "                                  ░ └───┘┌─┴─┐ ░ └───┘      ░  ║ └╥┘ ┌───┐ »\n",
       "q2_0: ────────────────────────────░──────┤ X ├─░────────────░──╫──╫──┤ Z ├─»\n",
       "                                  ░      └───┘ ░            ░  ║  ║  └─╥─┘ »\n",
       "                                                               ║  ║ ┌──╨──┐»\n",
       "c0: 1/═════════════════════════════════════════════════════════╩══╬═╡ = 1 ╞»\n",
       "                                                               0  ║ └─────┘»\n",
       "c1: 1/════════════════════════════════════════════════════════════╩════════»\n",
       "                                                                  0        »\n",
       "c2: 1/═════════════════════════════════════════════════════════════════════»\n",
       "                                                                           »\n",
       "«             \n",
       "«q0_0: ───────\n",
       "«             \n",
       "«q1_0: ───────\n",
       "«       ┌───┐ \n",
       "«q2_0: ─┤ X ├─\n",
       "«       └─╥─┘ \n",
       "«c0: 1/═══╬═══\n",
       "«      ┌──╨──┐\n",
       "«c1: 1/╡ = 1 ╞\n",
       "«      └─────┘\n",
       "«c2: 1/═══════\n",
       "«             </pre>"
      ],
      "text/plain": [
       "      ┌─────────────────────────┐ ░            ░      ┌───┐ ░ ┌─┐          »\n",
       "q0_0: ┤ Initialize(0.5,0.86603) ├─░────────────░───■──┤ H ├─░─┤M├──────────»\n",
       "      └─────────────────────────┘ ░ ┌───┐      ░ ┌─┴─┐└───┘ ░ └╥┘┌─┐       »\n",
       "q1_0: ────────────────────────────░─┤ H ├──■───░─┤ X ├──────░──╫─┤M├───────»\n",
       "                                  ░ └───┘┌─┴─┐ ░ └───┘      ░  ║ └╥┘ ┌───┐ »\n",
       "q2_0: ────────────────────────────░──────┤ X ├─░────────────░──╫──╫──┤ Z ├─»\n",
       "                                  ░      └───┘ ░            ░  ║  ║  └─╥─┘ »\n",
       "                                                               ║  ║ ┌──╨──┐»\n",
       "c0: 1/═════════════════════════════════════════════════════════╩══╬═╡ = 1 ╞»\n",
       "                                                               0  ║ └─────┘»\n",
       "c1: 1/════════════════════════════════════════════════════════════╩════════»\n",
       "                                                                  0        »\n",
       "c2: 1/═════════════════════════════════════════════════════════════════════»\n",
       "                                                                           »\n",
       "«             \n",
       "«q0_0: ───────\n",
       "«             \n",
       "«q1_0: ───────\n",
       "«       ┌───┐ \n",
       "«q2_0: ─┤ X ├─\n",
       "«       └─╥─┘ \n",
       "«c0: 1/═══╬═══\n",
       "«      ┌──╨──┐\n",
       "«c1: 1/╡ = 1 ╞\n",
       "«      └─────┘\n",
       "«c2: 1/═══════\n",
       "«             "
      ]
     },
     "execution_count": 3,
     "metadata": {},
     "output_type": "execute_result"
    }
   ],
   "source": [
    "circuit.barrier() \n",
    "circuit.h(Alice) \n",
    "circuit.cx(Alice,Bob) # in this par of the circuit generate the bell state from tutorial number 1\n",
    "\n",
    "\n",
    "circuit.barrier()\n",
    "circuit.cx(msg, Alice)\n",
    "circuit.h(msg)\n",
    "\n",
    "circuit.barrier()\n",
    "circuit.measure(msg, key1)\n",
    "circuit.measure(Alice, key2) # at this point in the cycle the measurement of msg and Alice is generated \n",
    "\n",
    "\n",
    "circuit.z(Bob).c_if(key1, 1) # this command if the measure in key1 if is one then  in the Bob qubit apply a Z gate\n",
    "circuit.x(Bob).c_if(key2, 1) # this command if the measure in key2 if is one then\n",
    "circuit.draw()"
   ]
  },
  {
   "cell_type": "code",
   "execution_count": 4,
   "id": "30f19bd3",
   "metadata": {},
   "outputs": [
    {
     "name": "stdout",
     "output_type": "stream",
     "text": [
      "[ 0.   +0.j  0.5  +0.j  0.   +0.j -0.   +0.j -0.   +0.j  0.866-0.j\n",
      " -0.   +0.j -0.   +0.j]\n"
     ]
    },
    {
     "data": {
      "image/png": "[encoded data removed]",
      "text/plain": [
       "<Figure size 504x360 with 1 Axes>"
      ]
     },
     "execution_count": 4,
     "metadata": {},
     "output_type": "execute_result"
    }
   ],
   "source": [
    "backend = Aer.get_backend('statevector_simulator')\n",
    "job = execute(circuit, backend)\n",
    "result = job.result()\n",
    "counts = result.get_counts()\n",
    "print(result.get_statevector(circuit, decimals=3))\n",
    "from qiskit.tools.visualization import plot_histogram\n",
    "plot_histogram(counts)\n"
   ]
  },
  {
   "cell_type": "code",
   "execution_count": null,
   "id": "85320ffa",
   "metadata": {},
   "outputs": [],
   "source": []
  }
 ],
 "metadata": {
  "kernelspec": {
   "display_name": "Python 3 (ipykernel)",
   "language": "python",
   "name": "python3"
  },
  "language_info": {
   "codemirror_mode": {
    "name": "ipython",
    "version": 3
   },
   "file_extension": ".py",
   "mimetype": "text/x-python",
   "name": "python",
   "nbconvert_exporter": "python",
   "pygments_lexer": "ipython3",
   "version": "3.9.7"
  }
 },
 "nbformat": 4,
 "nbformat_minor": 5
}
