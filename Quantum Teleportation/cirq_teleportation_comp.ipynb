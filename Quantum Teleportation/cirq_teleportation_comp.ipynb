{
 "cells": [
  {
   "cell_type": "code",
   "execution_count": null,
   "id": "615037c1",
   "metadata": {},
   "outputs": [],
   "source": [
    "import cirq\n",
    "import random\n",
    "import matplotlib.pyplot as plt\n",
    "import numpy as np"
   ]
  },
  {
   "cell_type": "code",
   "execution_count": 2,
   "id": "387d4b0f",
   "metadata": {},
   "outputs": [],
   "source": [
    "def make_quantum_teleportation_circuit(gate):\n",
    "    \"\"\"Returns a circuit for quantum teleportation.\n",
    "\n",
    "    This circuit 'teleports' a random qubit state prepared by\n",
    "    the input gate from Alice to Bob.\n",
    "    \"\"\"\n",
    "    circuit = cirq.Circuit()\n",
    "\n",
    "    # Get the three qubits involved in the teleportation protocol.\n",
    "    msg = cirq.NamedQubit(\"Message\")\n",
    "    alice = cirq.NamedQubit(\"Alice\")\n",
    "    bob = cirq.NamedQubit(\"Bob\")\n",
    "\n",
    "    # The input gate prepares the message to send.\n",
    "    circuit.append(gate(msg))\n",
    "\n",
    "    # Create a Bell state shared between Alice and Bob.\n",
    "    circuit.append([cirq.H(alice), cirq.CNOT(alice, bob)])\n",
    "\n",
    "    # Bell measurement of the Message and Alice's entangled qubit.\n",
    "    circuit.append([cirq.CNOT(msg, alice), cirq.H(msg), cirq.measure(msg, alice)])\n",
    "\n",
    "    # Uses the two classical bits from the Bell measurement to recover the\n",
    "    # original quantum message on Bob's entangled qubit.\n",
    "    circuit.append([cirq.CNOT(alice, bob), cirq.CZ(msg, bob)])\n",
    "\n",
    "    return circuit"
   ]
  },
  {
   "cell_type": "code",
   "execution_count": 3,
   "id": "a716ea61",
   "metadata": {},
   "outputs": [
    {
     "name": "stdout",
     "output_type": "stream",
     "text": [
      "Teleportation circuit:\n",
      "\n",
      "Alice: ─────H────────@───X───────M───@───────\n",
      "                     │   │       │   │\n",
      "Bob: ────────────────X───┼───────┼───X───@───\n",
      "                         │       │       │\n",
      "Message: ───X^0.25───────@───H───M───────@───\n"
     ]
    }
   ],
   "source": [
    "\"\"\"Visualize the teleportation circuit.\"\"\"\n",
    "# Gate to put the message qubit in some state to send.\n",
    "gate = cirq.X ** 0.25\n",
    "\n",
    "# Create the teleportation circuit.\n",
    "circuit = make_quantum_teleportation_circuit(gate)\n",
    "print(\"Teleportation circuit:\\n\")\n",
    "print(circuit)"
   ]
  },
  {
   "cell_type": "code",
   "execution_count": 4,
   "id": "11ec646d",
   "metadata": {},
   "outputs": [
    {
     "name": "stdout",
     "output_type": "stream",
     "text": [
      "Bloch vector of message qubit:\n",
      "[ 0.    -0.707  0.707]\n"
     ]
    }
   ],
   "source": [
    "\"\"\"Display the Bloch vector of the message qubit.\"\"\"\n",
    "message = cirq.Circuit(gate.on(cirq.NamedQubit(\"Message\"))).final_state_vector()\n",
    "message_bloch_vector = cirq.bloch_vector_from_state_vector(message, index=0)\n",
    "print(\"Bloch vector of message qubit:\")\n",
    "print(np.round(message_bloch_vector, 3))"
   ]
  },
  {
   "cell_type": "code",
   "execution_count": 5,
   "id": "a76c1bae",
   "metadata": {},
   "outputs": [
    {
     "name": "stdout",
     "output_type": "stream",
     "text": [
      "Bloch vector of Bob's qubit:\n",
      "[ 0.    -0.707  0.707]\n"
     ]
    }
   ],
   "source": [
    "\"\"\"Simulate the teleportation circuit and get the final state of Bob's qubit.\"\"\"\n",
    "# Get a simulator.\n",
    "sim = cirq.Simulator()\n",
    "\n",
    "# Simulate the teleportation circuit.\n",
    "result = sim.simulate(circuit)\n",
    "\n",
    "# Get the Bloch vector of Bob's qubit.\n",
    "bobs_bloch_vector = cirq.bloch_vector_from_state_vector(result.final_state_vector, index=1)\n",
    "print(\"Bloch vector of Bob's qubit:\")\n",
    "print(np.round(bobs_bloch_vector, 3))\n",
    "\n",
    "# Verify they are the same state!\n",
    "np.testing.assert_allclose(bobs_bloch_vector, message_bloch_vector, atol=1e-7)"
   ]
  },
  {
   "cell_type": "code",
   "execution_count": null,
   "id": "a31c29f5",
   "metadata": {},
   "outputs": [],
   "source": []
  }
 ],
 "metadata": {
  "kernelspec": {
   "display_name": "Python 3 (ipykernel)",
   "language": "python",
   "name": "python3"
  },
  "language_info": {
   "codemirror_mode": {
    "name": "ipython",
    "version": 3
   },
   "file_extension": ".py",
   "mimetype": "text/x-python",
   "name": "python",
   "nbconvert_exporter": "python",
   "pygments_lexer": "ipython3",
   "version": "3.9.7"
  }
 },
 "nbformat": 4,
 "nbformat_minor": 5
}
